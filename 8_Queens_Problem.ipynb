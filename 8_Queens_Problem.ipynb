{
  "nbformat": 4,
  "nbformat_minor": 0,
  "metadata": {
    "colab": {
      "name": "8 Queens Problem.ipynb",
      "provenance": [],
      "collapsed_sections": []
    },
    "kernelspec": {
      "name": "python3",
      "display_name": "Python 3"
    },
    "language_info": {
      "name": "python"
    }
  },
  "cells": [
    {
      "cell_type": "markdown",
      "source": [
        "# Solving 8 Queens Problem With Genetic Algorithm"
      ],
      "metadata": {
        "id": "5WXol1alYBSY"
      }
    },
    {
      "cell_type": "markdown",
      "source": [
        "**Problem Statement:**"
      ],
      "metadata": {
        "id": "aWaKlIFcYvte"
      }
    },
    {
      "cell_type": "markdown",
      "source": [
        "8 queens is a classic computer science problem. To find possible arrangements of 8 queens on a\n",
        "standard 8 x 8 chessboard such that no queens every end up in an attacking configuration.\n",
        "Now, if one knows the basics of chess, one can say that a queen can travel either horizontally,\n",
        "vertically, or diagonally. Hence, for 2 or more queens to be in an attacking state, they have to\n",
        "lie either horizontally or vertically or diagonally in-line with the other queen."
      ],
      "metadata": {
        "id": "qDvUbFhxYgz_"
      }
    },
    {
      "cell_type": "markdown",
      "source": [
        "**Solution**"
      ],
      "metadata": {
        "id": "tB0xGUQIYp2e"
      }
    },
    {
      "cell_type": "code",
      "source": [
        "\"\"\"\n",
        "  Step 1: Solution representation:\n",
        "    - I am going to user a fixed sized tuple of length 8 to represent an individual.\n",
        "    - A gene in this case is each index of the tuple and allele (pssible value for a gene) ranges from 0 to 7\n",
        "    - ith index of the tuple reperesents ith column in the 8x8 chess board e.g 0th index means '0' column of the chess board\n",
        "    - The value at ith index represents the row-wise position of the queen in the ith column i.e if value at 0th index of the tuple is 4, it means in the 0th column, queen is at row 4.\n",
        "\"\"\"\n",
        "\n",
        "\"\"\"\n",
        "  An example solution:\n",
        "\n",
        "  - Chromosome = (5, 2, 6, 1, 3, 7, 0, 4)\n",
        "  - In Chess Board: \n",
        "\n",
        "                0   1   2   3   4   5   6   7\n",
        "                |-----------------------------|\n",
        "              7 |-   -   -   -   -   Q   -   -|\n",
        "                |                             |\n",
        "              6 |-   -   Q   -   -   -   -   -|   \n",
        "                |                             |\n",
        "              5 |Q   -   -   -   -   -   -   -|   \n",
        "                |                             |\n",
        "              4 |-   -   -   -   -   -   -   Q|  \n",
        "                |                             |\n",
        "              3 |-   -   -   -   Q   -   -   -|   \n",
        "                |                             |\n",
        "              2 |-   Q   -   -   -   -   -   -|   \n",
        "                |                             |\n",
        "              1 |-   -   -   Q   -   -   -   -|   \n",
        "                |                             |\n",
        "              0 |-   -   -   -   -   -   Q   -|   \n",
        "                |-----------------------------|\n",
        "\"\"\"\n",
        "\n",
        "solution_size = 8"
      ],
      "metadata": {
        "id": "WAdTyjgkYIT6"
      },
      "execution_count": null,
      "outputs": []
    },
    {
      "cell_type": "code",
      "source": [
        "# this function returns a random integer between start and end\n",
        "import random\n",
        "rand = lambda start, end: random.randint(start, end)"
      ],
      "metadata": {
        "id": "jD5filpycjtO"
      },
      "execution_count": null,
      "outputs": []
    },
    {
      "cell_type": "code",
      "source": [
        "\"\"\"\n",
        "  Step 2: Generating random population:\n",
        "    - I am going to use a random population of individuals.\n",
        "    - Population size is 100 i.e we have 100 solutions are in the population\n",
        "\"\"\"\n",
        "\n",
        "# initializing population with random 100 unique solutions\n",
        "population_size = 100\n",
        "population = set()\n",
        "while len(population) != population_size:\n",
        "  population.add(tuple([rand(0, 7) for j in range(solution_size)]))\n",
        "\n",
        "# for testing\n",
        "population"
      ],
      "metadata": {
        "id": "r82iRP70aLs7",
        "colab": {
          "base_uri": "https://localhost:8080/"
        },
        "outputId": "ac449188-664a-4810-a026-b6804ad9ca27"
      },
      "execution_count": null,
      "outputs": [
        {
          "output_type": "execute_result",
          "data": {
            "text/plain": [
              "{(0, 0, 4, 0, 2, 0, 1, 3),\n",
              " (0, 1, 2, 4, 6, 5, 5, 4),\n",
              " (0, 1, 7, 3, 1, 0, 5, 2),\n",
              " (0, 1, 7, 4, 3, 7, 0, 1),\n",
              " (0, 1, 7, 5, 3, 7, 1, 3),\n",
              " (0, 3, 4, 1, 2, 0, 6, 3),\n",
              " (0, 5, 2, 1, 0, 2, 0, 6),\n",
              " (0, 5, 5, 1, 7, 3, 0, 0),\n",
              " (0, 6, 2, 3, 6, 6, 3, 0),\n",
              " (0, 6, 3, 2, 2, 7, 7, 3),\n",
              " (0, 6, 4, 4, 1, 0, 5, 2),\n",
              " (0, 7, 3, 3, 3, 3, 2, 3),\n",
              " (0, 7, 6, 6, 5, 1, 4, 1),\n",
              " (1, 0, 0, 1, 6, 6, 1, 5),\n",
              " (1, 0, 1, 0, 2, 6, 2, 1),\n",
              " (1, 0, 4, 0, 1, 3, 4, 4),\n",
              " (1, 1, 0, 3, 6, 2, 3, 3),\n",
              " (1, 2, 3, 7, 0, 1, 3, 0),\n",
              " (1, 4, 7, 0, 3, 1, 4, 3),\n",
              " (1, 4, 7, 6, 2, 6, 5, 3),\n",
              " (1, 5, 0, 7, 1, 7, 5, 7),\n",
              " (1, 5, 2, 6, 7, 0, 1, 1),\n",
              " (1, 7, 2, 1, 1, 3, 5, 4),\n",
              " (1, 7, 3, 6, 2, 2, 3, 2),\n",
              " (2, 0, 5, 7, 6, 0, 7, 3),\n",
              " (2, 1, 2, 1, 5, 3, 3, 4),\n",
              " (2, 1, 5, 3, 3, 5, 6, 1),\n",
              " (2, 1, 5, 7, 7, 0, 6, 4),\n",
              " (2, 3, 0, 0, 4, 1, 7, 3),\n",
              " (2, 3, 3, 4, 2, 7, 7, 7),\n",
              " (2, 3, 7, 1, 2, 4, 7, 0),\n",
              " (2, 4, 2, 0, 1, 0, 0, 3),\n",
              " (2, 4, 3, 0, 2, 0, 3, 0),\n",
              " (2, 5, 2, 2, 1, 3, 5, 5),\n",
              " (2, 6, 0, 3, 0, 6, 2, 2),\n",
              " (2, 6, 3, 1, 3, 4, 1, 0),\n",
              " (3, 1, 2, 2, 4, 6, 2, 1),\n",
              " (3, 1, 2, 6, 0, 6, 4, 2),\n",
              " (3, 1, 2, 6, 1, 7, 1, 4),\n",
              " (3, 2, 2, 0, 4, 1, 7, 3),\n",
              " (3, 2, 2, 1, 3, 3, 7, 3),\n",
              " (3, 2, 3, 5, 4, 7, 6, 6),\n",
              " (3, 3, 0, 5, 6, 2, 5, 7),\n",
              " (3, 3, 2, 6, 2, 3, 6, 2),\n",
              " (3, 3, 4, 7, 0, 4, 0, 7),\n",
              " (3, 3, 7, 1, 1, 1, 6, 6),\n",
              " (3, 4, 3, 5, 6, 2, 3, 5),\n",
              " (3, 4, 6, 6, 5, 3, 3, 0),\n",
              " (3, 5, 6, 7, 7, 1, 4, 5),\n",
              " (3, 7, 3, 6, 4, 0, 2, 2),\n",
              " (3, 7, 4, 2, 2, 2, 7, 5),\n",
              " (4, 3, 0, 4, 6, 1, 3, 1),\n",
              " (4, 3, 4, 2, 3, 1, 4, 2),\n",
              " (4, 3, 6, 6, 2, 3, 2, 7),\n",
              " (4, 3, 7, 3, 6, 6, 3, 7),\n",
              " (4, 4, 2, 7, 1, 2, 5, 4),\n",
              " (4, 4, 3, 2, 5, 2, 6, 6),\n",
              " (4, 5, 0, 6, 7, 7, 6, 1),\n",
              " (4, 5, 4, 2, 3, 0, 3, 3),\n",
              " (4, 6, 1, 5, 6, 6, 2, 0),\n",
              " (4, 6, 5, 1, 6, 3, 5, 7),\n",
              " (4, 7, 0, 0, 0, 1, 6, 1),\n",
              " (4, 7, 5, 2, 4, 7, 4, 5),\n",
              " (5, 0, 5, 7, 4, 0, 1, 1),\n",
              " (5, 1, 4, 3, 3, 6, 5, 4),\n",
              " (5, 1, 7, 5, 7, 6, 1, 6),\n",
              " (5, 2, 1, 6, 3, 3, 4, 5),\n",
              " (5, 2, 3, 5, 6, 4, 7, 3),\n",
              " (5, 2, 7, 1, 1, 6, 2, 2),\n",
              " (5, 3, 2, 4, 3, 2, 3, 4),\n",
              " (5, 3, 7, 2, 4, 7, 0, 2),\n",
              " (5, 4, 1, 1, 0, 3, 7, 6),\n",
              " (5, 4, 4, 4, 5, 2, 6, 1),\n",
              " (5, 4, 6, 6, 1, 1, 4, 5),\n",
              " (5, 4, 7, 1, 3, 1, 2, 2),\n",
              " (5, 6, 5, 1, 4, 7, 1, 3),\n",
              " (5, 6, 5, 6, 7, 3, 7, 3),\n",
              " (5, 6, 7, 2, 1, 2, 4, 2),\n",
              " (6, 2, 1, 7, 7, 6, 5, 2),\n",
              " (6, 4, 3, 2, 7, 6, 1, 7),\n",
              " (6, 4, 7, 2, 5, 0, 1, 6),\n",
              " (6, 5, 0, 1, 2, 5, 6, 3),\n",
              " (6, 5, 0, 1, 2, 7, 1, 4),\n",
              " (6, 5, 3, 7, 4, 7, 7, 5),\n",
              " (7, 0, 4, 1, 1, 2, 1, 2),\n",
              " (7, 0, 6, 2, 4, 1, 7, 5),\n",
              " (7, 1, 0, 1, 1, 4, 3, 6),\n",
              " (7, 1, 1, 7, 1, 7, 3, 2),\n",
              " (7, 1, 2, 7, 2, 6, 6, 7),\n",
              " (7, 1, 3, 6, 3, 1, 3, 6),\n",
              " (7, 3, 1, 5, 3, 1, 1, 1),\n",
              " (7, 3, 2, 7, 1, 2, 3, 4),\n",
              " (7, 3, 3, 0, 7, 4, 4, 1),\n",
              " (7, 3, 7, 0, 7, 3, 7, 3),\n",
              " (7, 4, 3, 7, 7, 4, 6, 3),\n",
              " (7, 5, 5, 5, 6, 2, 3, 3),\n",
              " (7, 6, 2, 0, 5, 0, 1, 3),\n",
              " (7, 6, 5, 4, 6, 7, 6, 3),\n",
              " (7, 7, 5, 2, 0, 6, 7, 5),\n",
              " (7, 7, 5, 4, 6, 3, 3, 5)}"
            ]
          },
          "metadata": {},
          "execution_count": 3
        }
      ]
    },
    {
      "cell_type": "code",
      "source": [
        "\"\"\"\n",
        "  Step 3: Fitness Function:\n",
        "    - Fitness value of an individual is the sum of the number of non-attacking pairs for each gene. \n",
        "    - Number of non-attacking pairs for ith gene of an individual = number of queens that are not attacked by the queen at ith column of the chess board.\n",
        "    -[Note: For ith column queen, we will count only those un-attacked queens that are at right side if the ith column queen]\n",
        "\"\"\"\n",
        "\n",
        "# define a fitness function\n",
        "def fitness(solution):\n",
        "  solution_fitness = 0\n",
        "\n",
        "  for i in range(len(solution)):\n",
        "    non_attacking_queens = 7 - i\n",
        "\n",
        "    for j in range(i + 1, len(solution)):\n",
        "      \"\"\"\n",
        "        - subtract horizontal collisions here collision is count of attacked queens\n",
        "        - subtract forward up diagonal colisions \n",
        "        - subtract forward down diagonal colisions\n",
        "        - We have represented individuals in such a way that there will be no vertical collision\n",
        "      \"\"\"\n",
        "      non_attacking_queens -= (int(solution[j] == solution[i]) + int(j - solution[j] == i - solution[i]) + int(j + solution[j] == i + solution[i]))\n",
        "\n",
        "    solution_fitness += non_attacking_queens\n",
        "  return solution_fitness\n",
        "\n",
        "# for testing\n",
        "fitness((2, 4, 7, 4, 8, 5, 5, 2))"
      ],
      "metadata": {
        "colab": {
          "base_uri": "https://localhost:8080/"
        },
        "id": "-X9-rVYYebLn",
        "outputId": "ffb6a304-170a-4c0a-da98-23d7ea3ccd4f"
      },
      "execution_count": null,
      "outputs": [
        {
          "output_type": "execute_result",
          "data": {
            "text/plain": [
              "24"
            ]
          },
          "metadata": {},
          "execution_count": 4
        }
      ]
    },
    {
      "cell_type": "code",
      "source": [
        "# What can be the max fitness of an individual with the above fitness function?\n",
        "# using arithematic series sum (n+1)n/2, we can can find the maximum fitness of the best solution(No unattacked pairs in an individual).\n",
        "max_fitness = (solution_size*(solution_size - 1))//2\n",
        "\n",
        "# for testing\n",
        "max_fitness"
      ],
      "metadata": {
        "colab": {
          "base_uri": "https://localhost:8080/"
        },
        "id": "zeZRFdv8iwF9",
        "outputId": "f132ae07-e8bf-4e20-8d83-303dc5290a6b"
      },
      "execution_count": null,
      "outputs": [
        {
          "output_type": "execute_result",
          "data": {
            "text/plain": [
              "28"
            ]
          },
          "metadata": {},
          "execution_count": 5
        }
      ]
    },
    {
      "cell_type": "code",
      "source": [
        "\"\"\"\n",
        "  Step 4: Selection:\n",
        "    - Selection of the fittest 2 solutions for crossover\n",
        "\"\"\""
      ],
      "metadata": {
        "colab": {
          "base_uri": "https://localhost:8080/",
          "height": 37
        },
        "id": "N0hxuOf9zVPp",
        "outputId": "996f093e-4809-442d-864c-783ed6d71110"
      },
      "execution_count": null,
      "outputs": [
        {
          "output_type": "execute_result",
          "data": {
            "text/plain": [
              "'\\n  Step 4: Selection:\\n    - Selection of the fittest 2 solutions for crossover\\n'"
            ],
            "application/vnd.google.colaboratory.intrinsic+json": {
              "type": "string"
            }
          },
          "metadata": {},
          "execution_count": 6
        }
      ]
    },
    {
      "cell_type": "code",
      "source": [
        "\"\"\"\n",
        "  Step 5: Crossover:\n",
        "    - apply a two-point crossover to generate two new solutions\n",
        "\"\"\"\n",
        "\n",
        "def crossover(solution_1, solution_2):\n",
        "  cut_1, cut_2 = rand(1, solution_size - 2), rand(1, solution_size - 2)\n",
        "\n",
        "  start_cut = min(cut_1, cut_2)\n",
        "  end_cut = max(cut_1, cut_2)\n",
        "\n",
        "  new_solution_1 = solution_1[: start_cut] + solution_2[start_cut: end_cut] + solution_1[end_cut:]\n",
        "  new_solution_2 = solution_2[: start_cut] + solution_1[start_cut: end_cut] + solution_2[end_cut:]\n",
        "  return (new_solution_1, new_solution_2)\n",
        "\n",
        "# for testing\n",
        "crossover((3, 4, 3, 6, 2, 5, 3, 5), (3, 5, 7, 1, 6, 1, 0, 6))"
      ],
      "metadata": {
        "colab": {
          "base_uri": "https://localhost:8080/"
        },
        "id": "QYBYKDS-uT7k",
        "outputId": "689f17c4-77f4-4a45-cd90-72b802de2a8c"
      },
      "execution_count": null,
      "outputs": [
        {
          "output_type": "execute_result",
          "data": {
            "text/plain": [
              "((3, 5, 3, 6, 2, 5, 3, 5), (3, 4, 7, 1, 6, 1, 0, 6))"
            ]
          },
          "metadata": {},
          "execution_count": 7
        }
      ]
    },
    {
      "cell_type": "code",
      "source": [
        "\"\"\"\n",
        "  Step 6: Mutation:\n",
        "    - apply a two-point mutation i.e randomly change value of 2 genes, to add diversity in the solution\n",
        "\"\"\"\n",
        "\n",
        "def mutation(solution):\n",
        "  bit_1, bit_2 = rand(0, solution_size - 1), rand(0, solution_size - 1)\n",
        "\n",
        "  updated_solution = list(solution)\n",
        "\n",
        "  # randomly change two genes\n",
        "  updated_solution[bit_1] = rand(0, 7)\n",
        "  updated_solution[bit_2] = rand(0, 7)\n",
        "\n",
        "  return tuple(updated_solution)\n",
        "\n",
        "# for testing\n",
        "mutation((3, 4, 3, 6, 2, 5, 3, 5))"
      ],
      "metadata": {
        "colab": {
          "base_uri": "https://localhost:8080/"
        },
        "id": "5WZHofZZuZ0R",
        "outputId": "e07a1e08-a2fb-49dd-c328-12ab93352823"
      },
      "execution_count": null,
      "outputs": [
        {
          "output_type": "execute_result",
          "data": {
            "text/plain": [
              "(3, 4, 2, 6, 2, 3, 3, 5)"
            ]
          },
          "metadata": {},
          "execution_count": 8
        }
      ]
    },
    {
      "cell_type": "code",
      "source": [
        "\"\"\"\n",
        "  For next generation:\n",
        "    - I am going to use 50% of the best individuals from the current generation and 50% of the \n",
        "      solutions that will be reproduced through crossover and mutation techniques.\n",
        "\"\"\"\n",
        "\n",
        "def generate_next_generation(ranked_solutions):\n",
        "  curr_gen_best_sol = ranked_solutions[: population_size // 2]\n",
        "\n",
        "  next_generation = curr_gen_best_sol\n",
        "  for idx in range(0, len(curr_gen_best_sol), 2):\n",
        "    # apply two-point crossover\n",
        "    new_solution_1, new_solution_2 = crossover(curr_gen_best_sol[idx], curr_gen_best_sol[idx+1])\n",
        "\n",
        "    # apply two-point mutation\n",
        "    new_solution_1, new_solution_2 = mutation(new_solution_1), mutation(new_solution_2)\n",
        "\n",
        "    next_generation.append(new_solution_1)\n",
        "    next_generation.append(new_solution_2)\n",
        "\n",
        "  return next_generation"
      ],
      "metadata": {
        "id": "545vdomVqp5G"
      },
      "execution_count": null,
      "outputs": []
    },
    {
      "cell_type": "code",
      "source": [
        "# maximum generations\n",
        "max_generations = 1000"
      ],
      "metadata": {
        "id": "DoN1srRirpq9"
      },
      "execution_count": null,
      "outputs": []
    },
    {
      "cell_type": "code",
      "source": [
        "best_solution = None\n",
        "for generation_num in range(max_generations):\n",
        "  ranked_solutions = []\n",
        "  \n",
        "  for solution in population:\n",
        "    ranked_solutions.append((fitness(solution), solution))\n",
        "  \n",
        "  ranked_solutions.sort()\n",
        "  ranked_solutions.reverse()\n",
        "\n",
        "  print(f\"Best Solution for generation # {generation_num}: {best_solution}\")\n",
        "\n",
        "  best_solution = ranked_solutions[0]\n",
        "  if best_solution[0] == max_fitness:\n",
        "    break\n",
        "\n",
        "  sorted_solutions = [ranked_solution[1] for ranked_solution in ranked_solutions]\n",
        "  population = generate_next_generation(sorted_solutions)"
      ],
      "metadata": {
        "colab": {
          "base_uri": "https://localhost:8080/"
        },
        "id": "P21ul2KnryOc",
        "outputId": "4632b147-e8bf-4565-8abb-f23bdcd38f4a"
      },
      "execution_count": null,
      "outputs": [
        {
          "output_type": "stream",
          "name": "stdout",
          "text": [
            "Best Solution for generation # 0: None\n",
            "Best Solution for generation # 1: (25, (7, 3, 3, 0, 7, 4, 4, 1))\n",
            "Best Solution for generation # 2: (25, (7, 3, 3, 0, 7, 4, 4, 1))\n",
            "Best Solution for generation # 3: (25, (7, 3, 3, 0, 7, 4, 4, 1))\n",
            "Best Solution for generation # 4: (25, (7, 3, 3, 0, 7, 4, 4, 1))\n",
            "Best Solution for generation # 5: (25, (7, 3, 3, 0, 7, 4, 4, 1))\n",
            "Best Solution for generation # 6: (25, (7, 7, 2, 0, 5, 4, 0, 3))\n",
            "Best Solution for generation # 7: (25, (7, 7, 2, 0, 5, 4, 0, 3))\n",
            "Best Solution for generation # 8: (25, (7, 7, 2, 0, 5, 4, 0, 3))\n",
            "Best Solution for generation # 9: (25, (7, 7, 2, 0, 5, 4, 0, 3))\n",
            "Best Solution for generation # 10: (25, (7, 7, 2, 0, 5, 4, 0, 3))\n",
            "Best Solution for generation # 11: (26, (3, 0, 6, 2, 4, 1, 7, 5))\n",
            "Best Solution for generation # 12: (26, (3, 0, 6, 2, 4, 1, 7, 5))\n",
            "Best Solution for generation # 13: (26, (3, 0, 6, 2, 4, 1, 7, 5))\n",
            "Best Solution for generation # 14: (26, (3, 0, 6, 2, 4, 1, 7, 5))\n",
            "Best Solution for generation # 15: (26, (5, 2, 6, 6, 0, 7, 4, 1))\n",
            "Best Solution for generation # 16: (26, (5, 2, 6, 6, 0, 7, 4, 1))\n",
            "Best Solution for generation # 17: (26, (7, 3, 6, 3, 5, 0, 4, 1))\n",
            "Best Solution for generation # 18: (26, (7, 3, 6, 3, 5, 0, 4, 1))\n",
            "Best Solution for generation # 19: (26, (7, 3, 6, 3, 5, 0, 4, 1))\n",
            "Best Solution for generation # 20: (26, (7, 3, 6, 3, 5, 0, 4, 1))\n",
            "Best Solution for generation # 21: (26, (7, 3, 6, 3, 5, 0, 4, 1))\n",
            "Best Solution for generation # 22: (26, (7, 3, 6, 3, 5, 0, 4, 1))\n",
            "Best Solution for generation # 23: (26, (7, 3, 6, 3, 5, 0, 4, 1))\n",
            "Best Solution for generation # 24: (26, (7, 3, 6, 3, 5, 0, 4, 1))\n",
            "Best Solution for generation # 25: (26, (7, 5, 3, 0, 7, 4, 4, 1))\n",
            "Best Solution for generation # 26: (26, (7, 5, 3, 0, 7, 4, 4, 1))\n",
            "Best Solution for generation # 27: (26, (7, 5, 3, 0, 7, 4, 4, 1))\n",
            "Best Solution for generation # 28: (26, (7, 5, 3, 0, 7, 4, 4, 1))\n",
            "Best Solution for generation # 29: (26, (7, 5, 3, 0, 7, 4, 4, 1))\n",
            "Best Solution for generation # 30: (26, (7, 5, 3, 0, 7, 4, 4, 1))\n",
            "Best Solution for generation # 31: (26, (7, 5, 3, 0, 7, 4, 4, 1))\n",
            "Best Solution for generation # 32: (26, (7, 5, 3, 0, 7, 4, 4, 1))\n",
            "Best Solution for generation # 33: (26, (7, 5, 3, 0, 7, 4, 4, 1))\n",
            "Best Solution for generation # 34: (27, (3, 0, 2, 4, 6, 1, 7, 5))\n",
            "Best Solution for generation # 35: (27, (5, 5, 2, 0, 3, 6, 4, 1))\n",
            "Best Solution for generation # 36: (27, (5, 5, 2, 0, 3, 6, 4, 1))\n",
            "Best Solution for generation # 37: (27, (5, 5, 2, 0, 3, 6, 4, 1))\n",
            "Best Solution for generation # 38: (27, (5, 5, 2, 0, 3, 6, 4, 1))\n",
            "Best Solution for generation # 39: (27, (5, 5, 2, 0, 3, 6, 4, 1))\n",
            "Best Solution for generation # 40: (27, (5, 5, 2, 0, 3, 6, 4, 1))\n",
            "Best Solution for generation # 41: (27, (5, 5, 2, 0, 3, 6, 4, 1))\n",
            "Best Solution for generation # 42: (27, (5, 5, 2, 0, 3, 6, 4, 1))\n",
            "Best Solution for generation # 43: (27, (5, 5, 2, 0, 3, 6, 4, 1))\n",
            "Best Solution for generation # 44: (27, (5, 5, 2, 0, 3, 6, 4, 1))\n",
            "Best Solution for generation # 45: (27, (5, 5, 2, 0, 3, 6, 4, 1))\n",
            "Best Solution for generation # 46: (27, (5, 5, 2, 0, 3, 6, 4, 1))\n",
            "Best Solution for generation # 47: (27, (5, 5, 2, 0, 3, 6, 4, 1))\n",
            "Best Solution for generation # 48: (27, (5, 5, 2, 0, 3, 6, 4, 1))\n",
            "Best Solution for generation # 49: (27, (5, 5, 2, 0, 3, 6, 4, 1))\n",
            "Best Solution for generation # 50: (27, (5, 5, 2, 0, 3, 6, 4, 1))\n",
            "Best Solution for generation # 51: (27, (5, 5, 2, 0, 3, 6, 4, 1))\n",
            "Best Solution for generation # 52: (27, (5, 5, 2, 0, 3, 6, 4, 1))\n",
            "Best Solution for generation # 53: (27, (5, 5, 2, 0, 3, 6, 4, 1))\n",
            "Best Solution for generation # 54: (27, (5, 5, 2, 0, 3, 6, 4, 1))\n",
            "Best Solution for generation # 55: (27, (5, 5, 2, 0, 3, 6, 4, 1))\n",
            "Best Solution for generation # 56: (27, (5, 5, 2, 0, 3, 6, 4, 1))\n",
            "Best Solution for generation # 57: (27, (5, 5, 2, 0, 3, 6, 4, 1))\n",
            "Best Solution for generation # 58: (27, (5, 5, 2, 0, 3, 6, 4, 1))\n",
            "Best Solution for generation # 59: (27, (5, 5, 2, 0, 3, 6, 4, 1))\n",
            "Best Solution for generation # 60: (27, (5, 5, 2, 0, 3, 7, 4, 1))\n",
            "Best Solution for generation # 61: (27, (7, 5, 2, 0, 3, 6, 4, 1))\n",
            "Best Solution for generation # 62: (27, (7, 5, 2, 0, 3, 6, 4, 1))\n",
            "Best Solution for generation # 63: (27, (7, 5, 2, 0, 3, 6, 4, 1))\n",
            "Best Solution for generation # 64: (27, (7, 5, 2, 0, 3, 6, 4, 1))\n",
            "Best Solution for generation # 65: (27, (7, 5, 2, 0, 3, 6, 4, 1))\n",
            "Best Solution for generation # 66: (27, (7, 5, 2, 0, 3, 6, 4, 1))\n",
            "Best Solution for generation # 67: (27, (7, 5, 2, 0, 3, 6, 4, 1))\n",
            "Best Solution for generation # 68: (27, (7, 5, 2, 0, 3, 6, 4, 1))\n",
            "Best Solution for generation # 69: (27, (7, 5, 2, 0, 3, 6, 4, 1))\n",
            "Best Solution for generation # 70: (27, (7, 5, 2, 0, 3, 6, 4, 1))\n",
            "Best Solution for generation # 71: (27, (7, 5, 2, 0, 3, 6, 4, 1))\n",
            "Best Solution for generation # 72: (27, (7, 5, 2, 0, 3, 6, 4, 1))\n",
            "Best Solution for generation # 73: (27, (7, 5, 2, 0, 3, 6, 4, 1))\n",
            "Best Solution for generation # 74: (27, (7, 5, 2, 0, 3, 6, 4, 1))\n",
            "Best Solution for generation # 75: (27, (7, 5, 2, 0, 3, 6, 4, 1))\n",
            "Best Solution for generation # 76: (27, (7, 5, 2, 0, 3, 6, 4, 1))\n",
            "Best Solution for generation # 77: (27, (7, 5, 2, 0, 3, 6, 4, 1))\n",
            "Best Solution for generation # 78: (27, (7, 5, 2, 0, 3, 6, 4, 1))\n",
            "Best Solution for generation # 79: (27, (7, 5, 2, 0, 3, 6, 4, 1))\n",
            "Best Solution for generation # 80: (27, (7, 5, 2, 0, 3, 6, 4, 1))\n",
            "Best Solution for generation # 81: (27, (7, 5, 2, 0, 3, 6, 4, 1))\n",
            "Best Solution for generation # 82: (27, (7, 5, 2, 0, 3, 6, 4, 1))\n",
            "Best Solution for generation # 83: (27, (7, 5, 2, 0, 3, 6, 4, 1))\n",
            "Best Solution for generation # 84: (27, (7, 5, 2, 0, 3, 6, 4, 1))\n",
            "Best Solution for generation # 85: (27, (7, 5, 2, 0, 3, 6, 4, 1))\n",
            "Best Solution for generation # 86: (27, (7, 5, 2, 0, 3, 6, 4, 1))\n",
            "Best Solution for generation # 87: (27, (7, 5, 2, 0, 3, 6, 4, 1))\n",
            "Best Solution for generation # 88: (27, (7, 5, 2, 0, 3, 6, 4, 1))\n",
            "Best Solution for generation # 89: (27, (7, 5, 2, 0, 3, 6, 4, 1))\n",
            "Best Solution for generation # 90: (27, (7, 5, 2, 0, 3, 6, 4, 1))\n",
            "Best Solution for generation # 91: (27, (7, 5, 2, 0, 3, 6, 4, 1))\n",
            "Best Solution for generation # 92: (27, (7, 5, 2, 0, 3, 6, 4, 1))\n",
            "Best Solution for generation # 93: (27, (7, 5, 2, 0, 3, 6, 4, 1))\n",
            "Best Solution for generation # 94: (27, (7, 5, 2, 0, 3, 6, 4, 1))\n",
            "Best Solution for generation # 95: (27, (7, 5, 2, 0, 3, 6, 4, 1))\n",
            "Best Solution for generation # 96: (27, (7, 5, 2, 0, 3, 6, 4, 1))\n",
            "Best Solution for generation # 97: (27, (7, 5, 2, 0, 3, 6, 4, 1))\n",
            "Best Solution for generation # 98: (27, (7, 5, 2, 0, 3, 6, 4, 1))\n",
            "Best Solution for generation # 99: (27, (7, 5, 2, 0, 3, 6, 4, 1))\n",
            "Best Solution for generation # 100: (27, (7, 5, 2, 0, 3, 6, 4, 1))\n",
            "Best Solution for generation # 101: (27, (7, 5, 2, 0, 3, 6, 4, 1))\n",
            "Best Solution for generation # 102: (27, (7, 5, 2, 0, 3, 6, 4, 1))\n",
            "Best Solution for generation # 103: (27, (7, 5, 2, 0, 3, 6, 4, 1))\n",
            "Best Solution for generation # 104: (27, (7, 5, 2, 0, 3, 6, 4, 1))\n",
            "Best Solution for generation # 105: (27, (7, 5, 2, 0, 3, 6, 4, 1))\n",
            "Best Solution for generation # 106: (27, (7, 5, 2, 0, 3, 6, 4, 1))\n",
            "Best Solution for generation # 107: (27, (7, 5, 2, 0, 3, 6, 4, 1))\n",
            "Best Solution for generation # 108: (27, (7, 5, 2, 0, 3, 6, 4, 1))\n",
            "Best Solution for generation # 109: (27, (7, 5, 2, 0, 3, 6, 4, 1))\n",
            "Best Solution for generation # 110: (27, (7, 5, 2, 0, 3, 6, 4, 1))\n",
            "Best Solution for generation # 111: (27, (7, 5, 2, 0, 3, 6, 4, 1))\n",
            "Best Solution for generation # 112: (27, (7, 5, 2, 0, 3, 6, 4, 1))\n",
            "Best Solution for generation # 113: (27, (7, 5, 2, 0, 3, 6, 4, 1))\n",
            "Best Solution for generation # 114: (27, (7, 5, 2, 0, 3, 6, 4, 1))\n",
            "Best Solution for generation # 115: (27, (7, 5, 2, 0, 3, 6, 4, 1))\n",
            "Best Solution for generation # 116: (27, (7, 5, 2, 0, 3, 6, 4, 1))\n",
            "Best Solution for generation # 117: (27, (7, 5, 2, 0, 3, 6, 4, 1))\n",
            "Best Solution for generation # 118: (27, (7, 5, 2, 0, 3, 6, 4, 1))\n",
            "Best Solution for generation # 119: (27, (7, 5, 2, 0, 3, 6, 4, 1))\n",
            "Best Solution for generation # 120: (27, (7, 5, 2, 0, 3, 6, 4, 1))\n",
            "Best Solution for generation # 121: (27, (7, 5, 2, 0, 3, 6, 4, 1))\n",
            "Best Solution for generation # 122: (27, (7, 5, 2, 0, 3, 6, 4, 1))\n",
            "Best Solution for generation # 123: (27, (7, 5, 2, 0, 3, 6, 4, 1))\n",
            "Best Solution for generation # 124: (27, (7, 5, 2, 0, 3, 6, 4, 1))\n",
            "Best Solution for generation # 125: (27, (7, 5, 2, 0, 3, 6, 4, 1))\n",
            "Best Solution for generation # 126: (27, (7, 5, 2, 0, 3, 6, 4, 1))\n",
            "Best Solution for generation # 127: (27, (7, 5, 2, 0, 3, 6, 4, 1))\n",
            "Best Solution for generation # 128: (27, (7, 5, 2, 0, 3, 6, 4, 1))\n"
          ]
        }
      ]
    },
    {
      "cell_type": "code",
      "source": [
        "# display positions of queens for best solution\n",
        "chess_board = [['-' for i in range(8)] for j in range(8)]\n",
        "\n",
        "for i in range(len(best_solution[1])):\n",
        "  chess_board[7 - best_solution[1][i]][i] = 'Q'\n",
        "\n",
        "print(f\"Fitness: {best_solution[0]}\\t\\tSolution: {best_solution[1]}\\n\\n\")\n",
        "print(\"-----------------------------\")\n",
        "print('\\n\\n'.join([''.join(['{:4}'.format(cell) for cell in row]) for row in chess_board]))\n",
        "print(\"-----------------------------\")"
      ],
      "metadata": {
        "id": "9w5_3d6M0nim",
        "colab": {
          "base_uri": "https://localhost:8080/"
        },
        "outputId": "576a5b4e-1a20-487a-cfef-bb08d15ead3a"
      },
      "execution_count": null,
      "outputs": [
        {
          "output_type": "stream",
          "name": "stdout",
          "text": [
            "Fitness: 28\t\tSolution: (2, 5, 7, 0, 3, 6, 4, 1)\n",
            "\n",
            "\n",
            "-----------------------------\n",
            "-   -   Q   -   -   -   -   -   \n",
            "\n",
            "-   -   -   -   -   Q   -   -   \n",
            "\n",
            "-   Q   -   -   -   -   -   -   \n",
            "\n",
            "-   -   -   -   -   -   Q   -   \n",
            "\n",
            "-   -   -   -   Q   -   -   -   \n",
            "\n",
            "Q   -   -   -   -   -   -   -   \n",
            "\n",
            "-   -   -   -   -   -   -   Q   \n",
            "\n",
            "-   -   -   Q   -   -   -   -   \n",
            "-----------------------------\n"
          ]
        }
      ]
    }
  ]
}